{
 "cells": [
  {
   "cell_type": "code",
   "execution_count": 19,
   "metadata": {},
   "outputs": [],
   "source": [
    "import bnlearn as bn\n",
    "from tqdm import tqdm"
   ]
  },
  {
   "cell_type": "code",
   "execution_count": 22,
   "metadata": {},
   "outputs": [],
   "source": [
    "endings=[\".xbif_.csv\",\".xbif50001_.csv\",\".xbif50002_.csv\",\".xbif50003_.csv\",\".xbif50004_.csv\",\".xbif50005_.csv\",\n",
    "         \".xbif50006_.csv\",\".xbif50007_.csv\",\".xbif50008_.csv\", \".xbif50009_.csv\",\".xbif50001246_.csv\",\"_test.csv\"]\n",
    "networks=[\"diabetes\",\"pathfinder\"]"
   ]
  },
  {
   "cell_type": "code",
   "execution_count": 23,
   "metadata": {},
   "outputs": [
    {
     "name": "stdout",
     "output_type": "stream",
     "text": [
      "[bnlearn] >Import <diabetes.bif>\n",
      "[bnlearn] >Loading bif file <diabetes.bif>\n"
     ]
    },
    {
     "name": "stderr",
     "output_type": "stream",
     "text": [
      "100%|██████████| 1/1 [00:05<00:00,  5.43s/it]\n"
     ]
    },
    {
     "name": "stdout",
     "output_type": "stream",
     "text": [
      "[bnlearn] >Import <pathfinder.bif>\n",
      "[bnlearn] >Loading bif file <pathfinder.bif>\n"
     ]
    },
    {
     "name": "stderr",
     "output_type": "stream",
     "text": [
      "100%|██████████| 1/1 [00:01<00:00,  1.90s/it]\n"
     ]
    }
   ],
   "source": [
    "for network in networks:\n",
    "    bif = bn.import_DAG(network + '.bif', checkmodel=False)\n",
    "    for ending in tqdm(endings):\n",
    "        sample = bn.sampling(bif, n=5000, methodtype='bayes')\n",
    "        # Save csv\n",
    "        sample.to_csv('bbdd/' + network + ending, index=False)"
   ]
  }
 ],
 "metadata": {
  "kernelspec": {
   "display_name": "base",
   "language": "python",
   "name": "python3"
  },
  "language_info": {
   "codemirror_mode": {
    "name": "ipython",
    "version": 3
   },
   "file_extension": ".py",
   "mimetype": "text/x-python",
   "name": "python",
   "nbconvert_exporter": "python",
   "pygments_lexer": "ipython3",
   "version": "3.10.8"
  },
  "orig_nbformat": 4,
  "vscode": {
   "interpreter": {
    "hash": "051f6fdf05976499aea8025011a7d53f4daa85b49acfaff4638dcb20069d78aa"
   }
  }
 },
 "nbformat": 4,
 "nbformat_minor": 2
}
