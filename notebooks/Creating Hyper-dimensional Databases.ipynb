{
 "cells": [
  {
   "cell_type": "code",
   "execution_count": 3,
   "metadata": {},
   "outputs": [],
   "source": [
    "import pandas as pd\n",
    "import numpy as np\n",
    "import os\n",
    "import re\n",
    "from xml.dom import minidom\n"
   ]
  },
  {
   "cell_type": "code",
   "execution_count": 2,
   "metadata": {},
   "outputs": [],
   "source": [
    "# Input Data\n",
    "data_folder = \"../experiments/raw/local/\"\n",
    "networks = [\"alarm\"]#, \"cancer\", \"mildew\", \"barley\", \"child\", \"insurance\", \"water\"]#, \"earthquake\"]\n",
    "algorithms = [\"ges\", \"hc\", \"pfhcbes\", \"pges\", \"phc\"]\n",
    "data_size = [\"10k\", \"50k\"]\n",
    "threads = [2, 4, 6, 8]\n",
    "interleaving = [5, 10, 15]\n",
    "threads_str = list(map(lambda x: \"T\" + str(x), threads))\n",
    "interleaving_str = list(map(lambda x: \"I\" + str(x), interleaving))\n",
    "ending = \"_global_results.csv\""
   ]
  },
  {
   "cell_type": "code",
   "execution_count": 31,
   "metadata": {},
   "outputs": [],
   "source": [
    "NCLONES = 4"
   ]
  },
  {
   "cell_type": "markdown",
   "metadata": {},
   "source": [
    "network_folder = \"../res/networks/\"\n",
    "p = re.compile(r'xbif$')"
   ]
  },
  {
   "cell_type": "markdown",
   "metadata": {},
   "source": [
    "network_paths = []\n",
    "for root, dirs, files in os.walk(network_folder):\n",
    "    for f in files:\n",
    "        result = p.search(f)\n",
    "        if (result):\n",
    "            network_paths.append(os.path.relpath(os.path.join(root, f), \".\"))"
   ]
  },
  {
   "cell_type": "code",
   "execution_count": 22,
   "metadata": {},
   "outputs": [],
   "source": [
    "alarm_network_path = '../res/networks/alarm.xbif'"
   ]
  },
  {
   "cell_type": "code",
   "execution_count": 40,
   "metadata": {},
   "outputs": [
    {
     "data": {
      "text/plain": [
       "'<?xml version=\"1.0\" ?>\\n<!-- DTD for the XMLBIF 0.3 format -->\\n<!DOCTYPE BIF [\\n\\t<!ELEMENT BIF ( NETWORK )*>\\n\\t      <!ATTLIST BIF VERSION CDATA #REQUIRED>\\n\\t<!ELEMENT NETWORK ( NAME, ( PROPERTY | VARIABLE | DEFINITION )* )>\\n\\t<!ELEMENT NAME (#PCDATA)>\\n\\t<!ELEMENT VARIABLE ( NAME, ( OUTCOME |  PROPERTY )* ) >\\n\\t      <!ATTLIST VARIABLE TYPE (nature|decision|utility) \"nature\">\\n\\t<!ELEMENT OUTCOME (#PCDATA)>\\n\\t<!ELEMENT DEFINITION ( FOR | GIVEN | TABLE | PROPERTY )* >\\n\\t<!ELEMENT FOR (#PCDATA)>\\n\\t<!ELEMENT GIVEN (#PCDATA)>\\n\\t<!ELEMENT TABLE (#PCDATA)>\\n\\t<!ELEMENT PROPERTY (#PCDATA)>\\n]>\\n<BIF VERSION=\"0.3\">\\n\\t\\n\\n\\t<NETWORK>\\n\\t\\t\\n  \\n\\t\\t<NAME>bayesiannetwork</NAME>\\n\\t\\t\\n\\n  \\n\\t\\t<VARIABLE TYPE=\"nature\">\\n\\t\\t\\t\\n    \\n\\t\\t\\t<NAME>DISCONNECT</NAME>\\n\\t\\t\\t\\n    \\n\\t\\t\\t<OUTCOME>TRUE</OUTCOME>\\n\\t\\t\\t\\n    \\n\\t\\t\\t<OUTCOME>FALSE</OUTCOME>\\n\\t\\t\\t\\n    \\n\\t\\t\\t<PROPERTY>position = (692, 334)</PROPERTY>\\n\\t\\t\\t\\n  \\n\\t\\t</VARIABLE>\\n\\t\\t\\n\\n  \\n\\t\\t<VARIABLE TYPE=\"nature\">\\n\\t\\t\\t\\n    \\n\\t\\t\\t<NAME>INSUFFANESTH</NAME>\\n\\t\\t\\t\\n    \\n\\t\\t\\t<OUTCOME>TRUE</OUTCOME>\\n\\t\\t\\t\\n    \\n\\t\\t\\t<OUTCOME>FALSE</OUTCOME>\\n\\t\\t\\t\\n    \\n\\t\\t\\t<PROPERTY>position = (840, -112)</PROPERTY>\\n\\t\\t\\t\\n  \\n\\t\\t</VARIABLE>\\n\\t\\t\\n\\n  \\n\\t\\t<VARIABLE TYPE=\"nature\">\\n\\t\\t\\t\\n    \\n\\t\\t\\t<NAME>PAP</NAME>\\n\\t\\t\\t\\n    \\n\\t\\t\\t<OUTCOME>LOW</OUTCOME>\\n\\t\\t\\t\\n    \\n\\t\\t\\t<OUTCOME>NORMAL</OUTCOME>\\n\\t\\t\\t\\n    \\n\\t\\t\\t<OUTCOME>HIGH</OUTCOME>\\n\\t\\t\\t\\n    \\n\\t\\t\\t<PROPERTY>position = (-154, 113)</PROPERTY>\\n\\t\\t\\t\\n  \\n\\t\\t</VARIABLE>\\n\\t\\t\\n\\n  \\n\\t\\t<VARIABLE TYPE=\"nature\">\\n\\t\\t\\t\\n    \\n\\t\\t\\t<NAME>HISTORY</NAME>\\n\\t\\t\\t\\n    \\n\\t\\t\\t<OUTCOME>TRUE</OUTCOME>\\n\\t\\t\\t\\n    \\n\\t\\t\\t<OUTCOME>FALSE</OUTCOME>\\n\\t\\t\\t\\n    \\n\\t\\t\\t<PROPERTY>position = (-227, -213)</PROPERTY>\\n\\t\\t\\t\\n  \\n\\t\\t</VARIABLE>\\n\\t\\t\\n\\n  \\n\\t\\t<VARIABLE TYPE=\"nature\">\\n\\t\\t\\t\\n    \\n\\t\\t\\t<NAME>ARTCO2</NAME>\\n\\t\\t\\t\\n    \\n\\t\\t\\t<OUTCOME>LOW</OUTCOME>\\n\\t\\t\\t\\n    \\n\\t\\t\\t<OUTCOME>NORMAL</OUTCOME>\\n\\t\\t\\t\\n    \\n\\t\\t\\t<OUTCOME>HIGH</OUTCOME>\\n\\t\\t\\t\\n    \\n\\t\\t\\t<PROPERTY>position = (568, -26)</PROPERTY>\\n\\t\\t\\t\\n  \\n\\t\\t</VARIABLE>\\n\\t\\t\\n\\n  \\n\\t\\t<VARIABLE TYPE=\"nature\">\\n\\t\\t\\t\\n    \\n\\t\\t\\t<NAME>ERRCAUTER</NAME>\\n\\t\\t\\t\\n    \\n\\t\\t\\t<OUTCOME>TRUE</OUTCOME>\\n\\t\\t\\t\\n    \\n\\t\\t\\t<OUTCOME>FALSE</OUTCOME>\\n\\t\\t\\t\\n    \\n\\t\\t\\t<PROPERTY>position = (657, -240)</PROPERTY>\\n\\t\\t\\t\\n  \\n\\t\\t</VARIABLE>\\n\\t\\t\\n\\n  \\n\\t\\t<VARIABLE TYPE=\"nature\">\\n\\t\\t\\t\\n    \\n\\t\\t\\t<NAME>HRBP</NAME>\\n\\t\\t\\t\\n    \\n\\t\\t\\t<OUTCOME>LOW</OUTCOME>\\n\\t\\t\\t\\n    \\n\\t\\t\\t<OUTCOME>NORMAL</OUTCOME>\\n\\t\\t\\t\\n    \\n\\t\\t\\t<OUTCOME>HIGH</OUTCOME>\\n\\t\\t\\t\\n    \\n\\t\\t\\t<PROPERTY>position = (162, -368)</PROPERTY>\\n\\t\\t\\t\\n  \\n\\t\\t</VARIABLE>\\n\\t\\t\\n\\n  \\n\\t\\t<VARIABLE TYPE=\"nature\">\\n\\t\\t\\t\\n    \\n\\t\\t\\t<NAME>PRESS</NAME>\\n\\t\\t\\t\\n    \\n\\t\\t\\t<OUTCOME>ZERO</OUTCOME>\\n\\t\\t\\t\\n    \\n\\t\\t\\t<OUTCOME>LOW</OUTCOME>\\n\\t\\t\\t\\n    \\n\\t\\t\\t<OUTCOME>NORMAL</OUTCOME>\\n\\t\\t\\t\\n    \\n\\t\\t\\t<OUTCOME>HIGH</OUTCOME>\\n\\t\\t\\t\\n    \\n\\t\\t\\t<PROPERTY>position = (801, 135)</PROPERTY>\\n\\t\\t\\t\\n  \\n\\t\\t</VARIABLE>\\n\\t\\t\\n\\n  \\n\\t\\t<VARIABLE TYPE=\"nature\">\\n\\t\\t\\t\\n    \\n\\t\\t\\t<NAME>FIO2</NAME>\\n\\t\\t\\t\\n    \\n\\t\\t\\t<OUTCOME>LOW</OUTCOME>\\n\\t\\t\\t\\n    \\n\\t\\t\\t<OUTCOME>NORMAL</OUTCOME>\\n\\t\\t\\t\\n    \\n\\t\\t\\t<PROPERTY>position = (327, 60)</PROPERTY>\\n\\t\\t\\t\\n  \\n\\t\\t</VARIABLE>\\n\\t\\t\\n\\n  \\n\\t\\t<VARIABLE TYPE=\"nature\">\\n\\t\\t\\t\\n    \\n\\t\\t\\t<NAME>BP</NAME>\\n\\t\\t\\t\\n    \\n\\t\\t\\t<OUTCOME>LOW</OUTCOME>\\n\\t\\t\\t\\n    \\n\\t\\t\\t<OUTCOME>NORMAL</OUTCOME>\\n\\t\\t\\t\\n    \\n\\t\\t\\t<OUTCOME>HIGH</OUTCOME>\\n\\t\\t\\t\\n    \\n\\t\\t\\t<PROPERTY>position = (67, -466)</PROPERTY>\\n\\t\\t\\t\\n  \\n\\t\\t</VARIABLE>\\n\\t\\t\\n\\n  \\n\\t\\t<VARIABLE TYPE=\"nature\">\\n\\t\\t\\t\\n    \\n\\t\\t\\t<NAME>VENTMACH</NAME>\\n\\t\\t\\t\\n    \\n\\t\\t\\t<OUTCOME>ZERO</OUTCOME>\\n\\t\\t\\t\\n    \\n\\t\\t\\t<OUTCOME>LOW</OUTCOME>\\n\\t\\t\\t\\n    \\n\\t\\t\\t<OUTCOME>NORMAL</OUTCOME>\\n\\t\\t\\t\\n    \\n\\t\\t\\t<OUTCOME>HIGH</OUTCOME>\\n\\t\\t\\t\\n    \\n\\t\\t\\t<PROPERTY>position = (958, 264)</PROPERTY>\\n\\t\\t\\t\\n  \\n\\t\\t</VARIABLE>\\n\\t\\t\\n\\n  \\n\\t\\t<VARIABLE TYPE=\"nature\">\\n\\t\\t\\t\\n    \\n\\t\\t\\t<NAME>VENTTUBE</NAME>\\n\\t\\t\\t\\n    \\n\\t\\t\\t<OUTCOME>ZERO</OUTCOME>\\n\\t\\t\\t\\n    \\n\\t\\t\\t<OUTCOME>LOW</OUTCOME>\\n\\t\\t\\t\\n    \\n\\t\\t\\t<OUTCOME>NORMAL</OUTCOME>\\n\\t\\t\\t\\n    \\n\\t\\t\\t<OUTCOME>HIGH</OUTCOME>\\n\\t\\t\\t\\n    \\n\\t\\t\\t<PROPERTY>position = (803, 224)</PROPERTY>\\n\\t\\t\\t\\n  \\n\\t\\t</VARIABLE>\\n\\t\\t\\n\\n  \\n\\t\\t<VARIABLE TYPE=\"nature\">\\n\\t\\t\\t\\n    \\n\\t\\t\\t<NAME>CATECHOL</NAME>\\n\\t\\t\\t\\n    \\n\\t\\t\\t<OUTCOME>NORMAL</OUTCOME>\\n\\t\\t\\t\\n    \\n\\t\\t\\t<OUTCOME>HIGH</OUTCOME>\\n\\t\\t\\t\\n    \\n\\t\\t\\t<PROPERTY>position = (495, -134)</PROPERTY>\\n\\t\\t\\t\\n  \\n\\t\\t</VARIABLE>\\n\\t\\t\\n\\n  \\n\\t\\t<VARIABLE TYPE=\"nature\">\\n\\t\\t\\t\\n    \\n\\t\\t\\t<NAME>CO</NAME>\\n\\t\\t\\t\\n    \\n\\t\\t\\t<OUTCOME>LOW</OUTCOME>\\n\\t\\t\\t\\n    \\n\\t\\t\\t<OUTCOME>NORMAL</OUTCOME>\\n\\t\\t\\t\\n    \\n\\t\\t\\t<OUTCOME>HIGH</OUTCOME>\\n\\t\\t\\t\\n    \\n\\t\\t\\t<PROPERTY>position = (326, -366)</PROPERTY>\\n\\t\\t\\t\\n  \\n\\t\\t</VARIABLE>\\n\\t\\t\\n\\n  \\n\\t\\t<VARIABLE TYPE=\"nature\">\\n\\t\\t\\t\\n    \\n\\t\\t\\t<NAME>INTUBATION</NAME>\\n\\t\\t\\t\\n    \\n\\t\\t\\t<OUTCOME>NORMAL</OUTCOME>\\n\\t\\t\\t\\n    \\n\\t\\t\\t<OUTCOME>ESOPHAGEAL</OUTCOME>\\n\\t\\t\\t\\n    \\n\\t\\t\\t<OUTCOME>ONESIDED</OUTCOME>\\n\\t\\t\\t\\n    \\n\\t\\t\\t<PROPERTY>position = (450, 277)</PROPERTY>\\n\\t\\t\\t\\n  \\n\\t\\t</VARIABLE>\\n\\t\\t\\n\\n  \\n\\t\\t<VARIABLE TYPE=\"nature\">\\n\\t\\t\\t\\n    \\n\\t\\t\\t<NAME>ERRLOWOUTPUT</NAME>\\n\\t\\t\\t\\n    \\n\\t\\t\\t<OUTCOME>TRUE</OUTCOME>\\n\\t\\t\\t\\n    \\n\\t\\t\\t<OUTCOME>FALSE</OUTCOME>\\n\\t\\t\\t\\n    \\n\\t\\t\\t<PROPERTY>position = (168, -236)</PROPERTY>\\n\\t\\t\\t\\n  \\n\\t\\t</VARIABLE>\\n\\t\\t\\n\\n  \\n\\t\\t<VARIABLE TYPE=\"nature\">\\n\\t\\t\\t\\n    \\n\\t\\t\\t<NAME>PCWP</NAME>\\n\\t\\t\\t\\n    \\n\\t\\t\\t<OUTCOME>LOW</OUTCOME>\\n\\t\\t\\t\\n    \\n\\t\\t\\t<OUTCOME>NORMAL</OUTCOME>\\n\\t\\t\\t\\n    \\n\\t\\t\\t<OUTCOME>HIGH</OUTCOME>\\n\\t\\t\\t\\n    \\n\\t\\t\\t<PROPERTY>position = (-31, -360)</PROPERTY>\\n\\t\\t\\t\\n  \\n\\t\\t</VARIABLE>\\n\\t\\t\\n\\n  \\n\\t\\t<VARIABLE TYPE=\"nature\">\\n\\t\\t\\t\\n    \\n\\t\\t\\t<NAME>MINVOLSET</NAME>\\n\\t\\t\\t\\n    \\n\\t\\t\\t<OUTCOME>LOW</OUTCOME>\\n\\t\\t\\t\\n    \\n\\t\\t\\t<OUTCOME>NORMAL</OUTCOME>\\n\\t\\t\\t\\n    \\n\\t\\t\\t<OUTCOME>HIGH</OUTCOME>\\n\\t\\t\\t\\n    \\n\\t\\t\\t<PROPERTY>position = (897, 345)</PROPERTY>\\n\\t\\t\\t\\n  \\n\\t\\t</VARIABLE>\\n\\t\\t\\n\\n  \\n\\t\\t<VARIABLE TYPE=\"nature\">\\n\\t\\t\\t\\n    \\n\\t\\t\\t<NAME>TPR</NAME>\\n\\t\\t\\t\\n    \\n\\t\\t\\t<OUTCOME>LOW</OUTCOME>\\n\\t\\t\\t\\n    \\n\\t\\t\\t<OUTCOME>NORMAL</OUTCOME>\\n\\t\\t\\t\\n    \\n\\t\\t\\t<OUTCOME>HIGH</OUTCOME>\\n\\t\\t\\t\\n    \\n\\t\\t\\t<PROPERTY>position = (83, 23)</PROPERTY>\\n\\t\\t\\t\\n  \\n\\t\\t</VARIABLE>\\n\\t\\t\\n\\n  \\n\\t\\t<VARIABLE TYPE=\"nature\">\\n\\t\\t\\t\\n    \\n\\t\\t\\t<NAME>CVP</NAME>\\n\\t\\t\\t\\n    \\n\\t\\t\\t<OUTCOME>LOW</OUTCOME>\\n\\t\\t\\t\\n    \\n\\t\\t\\t<OUTCOME>NORMAL</OUTCOME>\\n\\t\\t\\t\\n    \\n\\t\\t\\t<OUTCOME>HIGH</OUTCOME>\\n\\t\\t\\t\\n    \\n\\t\\t\\t<PROPERTY>position = (-215, -362)</PROPERTY>\\n\\t\\t\\t\\n  \\n\\t\\t</VARIABLE>\\n\\t\\t\\n\\n  \\n\\t\\t<VARIABLE TYPE=\"nature\">\\n\\t\\t\\t\\n    \\n\\t\\t\\t<NAME>VENTLUNG</NAME>\\n\\t\\t\\t\\n    \\n\\t\\t\\t<OUTCOME>ZERO</OUTCOME>\\n\\t\\t\\t\\n    \\n\\t\\t\\t<OUTCOME>LOW</OUTCOME>\\n\\t\\t\\t\\n    \\n\\t\\t\\t<OUTCOME>NORMAL</OUTCOME>\\n\\t\\t\\t\\n    \\n\\t\\t\\t<OUTCOME>HIGH</OUTCOME>\\n\\t\\t\\t\\n    \\n\\t\\t\\t<PROPERTY>position = (567, 134)</PROPERTY>\\n\\t\\t\\t\\n  \\n\\t\\t</VARIABLE>\\n\\t\\t\\n\\n  \\n\\t\\t<VARIABLE TYPE=\"nature\">\\n\\t\\t\\t\\n    \\n\\t\\t\\t<NAME>ANAPHYLAXIS</NAME>\\n\\t\\t\\t\\n    \\n\\t\\t\\t<OUTCOME>TRUE</OUTCOME>\\n\\t\\t\\t\\n    \\n\\t\\t\\t<OUTCOME>FALSE</OUTCOME>\\n\\t\\t\\t\\n    \\n\\t\\t\\t<PROPERTY>position = (-113, 27)</PROPERTY>\\n\\t\\t\\t\\n  \\n\\t\\t</VARIABLE>\\n\\t\\t\\n\\n  \\n\\t\\t<VARIABLE TYPE=\"nature\">\\n\\t\\t\\t\\n    \\n\\t\\t\\t<NAME>PVSAT</NAME>\\n\\t\\t\\t\\n    \\n\\t\\t\\t<OUTCOME>LOW</OUTCOME>\\n\\t\\t\\t\\n    \\n\\t\\t\\t<OUTCOME>NORMAL</OUTCOME>\\n\\t\\t\\t\\n    \\n\\t\\t\\t<OUTCOME>HIGH</OUTCOME>\\n\\t\\t\\t\\n    \\n\\t\\t\\t<PROPERTY>position = (333, -17)</PROPERTY>\\n\\t\\t\\t\\n  \\n\\t\\t</VARIABLE>\\n\\t\\t\\n\\n  \\n\\t\\t<VARIABLE TYPE=\"nature\">\\n\\t\\t\\t\\n    \\n\\t\\t\\t<NAME>MINVOL</NAME>\\n\\t\\t\\t\\n    \\n\\t\\t\\t<OUTCOME>ZERO</OUTCOME>\\n\\t\\t\\t\\n    \\n\\t\\t\\t<OUTCOME>LOW</OUTCOME>\\n\\t\\t\\t\\n    \\n\\t\\t\\t<OUTCOME>NORMAL</OUTCOME>\\n\\t\\t\\t\\n    \\n\\t\\t\\t<OUTCOME>HIGH</OUTCOME>\\n\\t\\t\\t\\n    \\n\\t\\t\\t<PROPERTY>position = (826, 43)</PROPERTY>\\n\\t\\t\\t\\n  \\n\\t\\t</VARIABLE>\\n\\t\\t\\n\\n  \\n\\t\\t<VARIABLE TYPE=\"nature\">\\n\\t\\t\\t\\n    \\n\\t\\t\\t<NAME>EXPCO2</NAME>\\n\\t\\t\\t\\n    \\n\\t\\t\\t<OUTCOME>ZERO</OUTCOME>\\n\\t\\t\\t\\n    \\n\\t\\t\\t<OUTCOME>LOW</OUTCOME>\\n\\t\\t\\t\\n    \\n\\t\\t\\t<OUTCOME>NORMAL</OUTCOME>\\n\\t\\t\\t\\n    \\n\\t\\t\\t<OUTCOME>HIGH</OUTCOME>\\n\\t\\t\\t\\n    \\n\\t\\t\\t<PROPERTY>position = (722, -56)</PROPERTY>\\n\\t\\t\\t\\n  \\n\\t\\t</VARIABLE>\\n\\t\\t\\n\\n  \\n\\t\\t<VARIABLE TYPE=\"nature\">\\n\\t\\t\\t\\n    \\n\\t\\t\\t<NAME>HRSAT</NAME>\\n\\t\\t\\t\\n    \\n\\t\\t\\t<OUTCOME>LOW</OUTCOME>\\n\\t\\t\\t\\n    \\n\\t\\t\\t<OUTCOME>NORMAL</OUTCOME>\\n\\t\\t\\t\\n    \\n\\t\\t\\t<OUTCOME>HIGH</OUTCOME>\\n\\t\\t\\t\\n    \\n\\t\\t\\t<PROPERTY>position = (494, -367)</PROPERTY>\\n\\t\\t\\t\\n  \\n\\t\\t</VARIABLE>\\n\\t\\t\\n\\n  \\n\\t\\t<VARIABLE TYPE=\"nature\">\\n\\t\\t\\t\\n    \\n\\t\\t\\t<NAME>LVFAILURE</NAME>\\n\\t\\t\\t\\n    \\n\\t\\t\\t<OUTCOME>TRUE</OUTCOME>\\n\\t\\t\\t\\n    \\n\\t\\t\\t<OUTCOME>FALSE</OUTCOME>\\n\\t\\t\\t\\n    \\n\\t\\t\\t<PROPERTY>position = (-1, -113)</PROPERTY>\\n\\t\\t\\t\\n  \\n\\t\\t</VARIABLE>\\n\\t\\t\\n\\n  \\n\\t\\t<VARIABLE TYPE=\"nature\">\\n\\t\\t\\t\\n    \\n\\t\\t\\t<NAME>HYPOVOLEMIA</NAME>\\n\\t\\t\\t\\n    \\n\\t\\t\\t<OUTCOME>TRUE</OUTCOME>\\n\\t\\t\\t\\n    \\n\\t\\t\\t<OUTCOME>FALSE</OUTCOME>\\n\\t\\t\\t\\n    \\n\\t\\t\\t<PROPERTY>position = (276, -152)</PROPERTY>\\n\\t\\t\\t\\n  \\n\\t\\t</VARIABLE>\\n\\t\\t\\n\\n  \\n\\t\\t<VARIABLE TYPE=\"nature\">\\n\\t\\t\\t\\n    \\n\\t\\t\\t<NAME>HREKG</NAME>\\n\\t\\t\\t\\n    \\n\\t\\t\\t<OUTCOME>LOW</OUTCOME>\\n\\t\\t\\t\\n    \\n\\t\\t\\t<OUTCOME>NORMAL</OUTCOME>\\n\\t\\t\\t\\n    \\n\\t\\t\\t<OUTCOME>HIGH</OUTCOME>\\n\\t\\t\\t\\n    \\n\\t\\t\\t<PROPERTY>position = (657, -373)</PROPERTY>\\n\\t\\t\\t\\n  \\n\\t\\t</VARIABLE>\\n\\t\\t\\n\\n  \\n\\t\\t<VARIABLE TYPE=\"nature\">\\n\\t\\t\\t\\n    \\n\\t\\t\\t<NAME>LVEDVOLUME</NAME>\\n\\t\\t\\t\\n    \\n\\t\\t\\t<OUTCOME>LOW</OUTCOME>\\n\\t\\t\\t\\n    \\n\\t\\t\\t<OUTCOME>NORMAL</OUTCOME>\\n\\t\\t\\t\\n    \\n\\t\\t\\t<OUTCOME>HIGH</OUTCOME>\\n\\t\\t\\t\\n    \\n\\t\\t\\t<PROPERTY>position = (-24, -249)</PROPERTY>\\n\\t\\t\\t\\n  \\n\\t\\t</VARIABLE>\\n\\t\\t\\n\\n  \\n\\t\\t<VARIABLE TYPE=\"nature\">\\n\\t\\t\\t\\n    \\n\\t\\t\\t<NAME>SAO2</NAME>\\n\\t\\t\\t\\n    \\n\\t\\t\\t<OUTCOME>LOW</OUTCOME>\\n\\t\\t\\t\\n    \\n\\t\\t\\t<OUTCOME>NORMAL</OUTCOME>\\n\\t\\t\\t\\n    \\n\\t\\t\\t<OUTCOME>HIGH</OUTCOME>\\n\\t\\t\\t\\n    \\n\\t\\t\\t<PROPERTY>position = (232, -86)</PROPERTY>\\n\\t\\t\\t\\n  \\n\\t\\t</VARIABLE>\\n\\t\\t\\n\\n  \\n\\t\\t<VARIABLE TYPE=\"nature\">\\n\\t\\t\\t\\n    \\n\\t\\t\\t<NAME>PULMEMBOLUS</NAME>\\n\\t\\t\\t\\n    \\n\\t\\t\\t<OUTCOME>TRUE</OUTCOME>\\n\\t\\t\\t\\n    \\n\\t\\t\\t<OUTCOME>FALSE</OUTCOME>\\n\\t\\t\\t\\n    \\n\\t\\t\\t<PROPERTY>position = (40, 177)</PROPERTY>\\n\\t\\t\\t\\n  \\n\\t\\t</VARIABLE>\\n\\t\\t\\n\\n  \\n\\t\\t<VARIABLE TYPE=\"nature\">\\n\\t\\t\\t\\n    \\n\\t\\t\\t<NAME>HR</NAME>\\n\\t\\t\\t\\n    \\n\\t\\t\\t<OUTCOME>LOW</OUTCOME>\\n\\t\\t\\t\\n    \\n\\t\\t\\t<OUTCOME>NORMAL</OUTCOME>\\n\\t\\t\\t\\n    \\n\\t\\t\\t<OUTCOME>HIGH</OUTCOME>\\n\\t\\t\\t\\n    \\n\\t\\t\\t<PROPERTY>position = (497, -233)</PROPERTY>\\n\\t\\t\\t\\n  \\n\\t\\t</VARIABLE>\\n\\t\\t\\n\\n  \\n\\t\\t<VARIABLE TYPE=\"nature\">\\n\\t\\t\\t\\n    \\n\\t\\t\\t<NAME>VENTALV</NAME>\\n\\t\\t\\t\\n    \\n\\t\\t\\t<OUTCOME>ZERO</OUTCOME>\\n\\t\\t\\t\\n    \\n\\t\\t\\t<OUTCOME>LOW</OUTCOME>\\n\\t\\t\\t\\n    \\n\\t\\t\\t<OUTCOME>NORMAL</OUTCOME>\\n\\t\\t\\t\\n    \\n\\t\\t\\t<OUTCOME>HIGH</OUTCOME>\\n\\t\\t\\t\\n    \\n\\t\\t\\t<PROPERTY>position = (499, 49)</PROPERTY>\\n\\t\\t\\t\\n  \\n\\t\\t</VARIABLE>\\n\\t\\t\\n\\n  \\n\\t\\t<VARIABLE TYPE=\"nature\">\\n\\t\\t\\t\\n    \\n\\t\\t\\t<NAME>STROKEVOLUME</NAME>\\n\\t\\t\\t\\n    \\n\\t\\t\\t<OUTCOME>LOW</OUTCOME>\\n\\t\\t\\t\\n    \\n\\t\\t\\t<OUTCOME>NORMAL</OUTCOME>\\n\\t\\t\\t\\n    \\n\\t\\t\\t<OUTCOME>HIGH</OUTCOME>\\n\\t\\t\\t\\n    \\n\\t\\t\\t<PROPERTY>position = (330, -231)</PROPERTY>\\n\\t\\t\\t\\n  \\n\\t\\t</VARIABLE>\\n\\t\\t\\n\\n  \\n\\t\\t<VARIABLE TYPE=\"nature\">\\n\\t\\t\\t\\n    \\n\\t\\t\\t<NAME>KINKEDTUBE</NAME>\\n\\t\\t\\t\\n    \\n\\t\\t\\t<OUTCOME>TRUE</OUTCOME>\\n\\t\\t\\t\\n    \\n\\t\\t\\t<OUTCOME>FALSE</OUTCOME>\\n\\t\\t\\t\\n    \\n\\t\\t\\t<PROPERTY>position = (601, 273)</PROPERTY>\\n\\t\\t\\t\\n  \\n\\t\\t</VARIABLE>\\n\\t\\t\\n\\n  \\n\\t\\t<VARIABLE TYPE=\"nature\">\\n\\t\\t\\t\\n    \\n\\t\\t\\t<NAME>SHUNT</NAME>\\n\\t\\t\\t\\n    \\n\\t\\t\\t<OUTCOME>NORMAL</OUTCOME>\\n\\t\\t\\t\\n    \\n\\t\\t\\t<OUTCOME>HIGH</OUTCOME>\\n\\t\\t\\t\\n    \\n\\t\\t\\t<PROPERTY>position = (174, 87)</PROPERTY>\\n\\t\\t\\t\\n  \\n\\t\\t</VARIABLE>\\n\\t\\t\\n\\n  \\n\\t\\t<DEFINITION>\\n\\t\\t\\t\\n    \\n\\t\\t\\t<FOR>DISCONNECT</FOR>\\n\\t\\t\\t\\n    \\n\\t\\t\\t<TABLE>0.1 0.9 </TABLE>\\n\\t\\t\\t\\n  \\n\\t\\t</DEFINITION>\\n\\t\\t\\n\\n  \\n\\t\\t<DEFINITION>\\n\\t\\t\\t\\n    \\n\\t\\t\\t<FOR>INSUFFANESTH</FOR>\\n\\t\\t\\t\\n    \\n\\t\\t\\t<TABLE>0.1 0.9 </TABLE>\\n\\t\\t\\t\\n  \\n\\t\\t</DEFINITION>\\n\\t\\t\\n\\n  \\n\\t\\t<DEFINITION>\\n\\t\\t\\t\\n    \\n\\t\\t\\t<FOR>PAP</FOR>\\n\\t\\t\\t\\n    \\n\\t\\t\\t<GIVEN>PULMEMBOLUS</GIVEN>\\n\\t\\t\\t\\n    \\n\\t\\t\\t<TABLE>0.01 0.19 0.8 0.05 0.9 0.05 </TABLE>\\n\\t\\t\\t\\n  \\n\\t\\t</DEFINITION>\\n\\t\\t\\n\\n  \\n\\t\\t<DEFINITION>\\n\\t\\t\\t\\n    \\n\\t\\t\\t<FOR>HISTORY</FOR>\\n\\t\\t\\t\\n    \\n\\t\\t\\t<GIVEN>LVFAILURE</GIVEN>\\n\\t\\t\\t\\n    \\n\\t\\t\\t<TABLE>0.9 0.1 0.01 0.99 </TABLE>\\n\\t\\t\\t\\n  \\n\\t\\t</DEFINITION>\\n\\t\\t\\n\\n  \\n\\t\\t<DEFINITION>\\n\\t\\t\\t\\n    \\n\\t\\t\\t<FOR>ARTCO2</FOR>\\n\\t\\t\\t\\n    \\n\\t\\t\\t<GIVEN>VENTALV</GIVEN>\\n\\t\\t\\t\\n    \\n\\t\\t\\t<TABLE>0.01 0.01 0.98 0.01 0.01 0.98 0.04 0.92 0.04 0.9 0.09 0.01 </TABLE>\\n\\t\\t\\t\\n  \\n\\t\\t</DEFINITION>\\n\\t\\t\\n\\n  \\n\\t\\t<DEFINITION>\\n\\t\\t\\t\\n    \\n\\t\\t\\t<FOR>ERRCAUTER</FOR>\\n\\t\\t\\t\\n    \\n\\t\\t\\t<TABLE>0.1 0.9 </TABLE>\\n\\t\\t\\t\\n  \\n\\t\\t</DEFINITION>\\n\\t\\t\\n\\n  \\n\\t\\t<DEFINITION>\\n\\t\\t\\t\\n    \\n\\t\\t\\t<FOR>HRBP</FOR>\\n\\t\\t\\t\\n    \\n\\t\\t\\t<GIVEN>ERRLOWOUTPUT</GIVEN>\\n\\t\\t\\t\\n    \\n\\t\\t\\t<GIVEN>HR</GIVEN>\\n\\t\\t\\t\\n    \\n\\t\\t\\t<TABLE>0.98 0.01 0.01 0.3 0.4 0.3 0.01 0.98 0.01 0.4 0.59 0.01 0.98 0.01 0.01 0.01 0.01 0.98 </TABLE>\\n\\t\\t\\t\\n  \\n\\t\\t</DEFINITION>\\n\\t\\t\\n\\n  \\n\\t\\t<DEFINITION>\\n\\t\\t\\t\\n    \\n\\t\\t\\t<FOR>PRESS</FOR>\\n\\t\\t\\t\\n    \\n\\t\\t\\t<GIVEN>INTUBATION</GIVEN>\\n\\t\\t\\t\\n    \\n\\t\\t\\t<GIVEN>KINKEDTUBE</GIVEN>\\n\\t\\t\\t\\n    \\n\\t\\t\\t<GIVEN>VENTTUBE</GIVEN>\\n\\t\\t\\t\\n    \\n\\t\\t\\t<TABLE>0.97 0.01 0.01 0.01 0.05 0.25 0.25 0.45 0.97 0.01 0.01 0.01 0.2 0.75 0.04 0.01 0.01 0.01 0.01 0.97 0.01 0.29 0.3 0.4 0.01 0.01 0.01 0.97 0.01 0.9 0.08 0.01 0.01 0.3 0.49 0.2 0.01 0.15 0.25 0.59 0.01 0.97 0.01 0.01 0.2 0.7 0.09 0.01 0.97 0.01 0.01 0.01 0.01 0.01 0.08 0.9 0.97 0.01 0.01 0.01 0.01 0.01 0.38 0.6 0.01 0.01 0.08 0.9 0.97 0.01 0.01 0.01 0.01 0.01 0.97 0.01 0.97 0.01 0.01 0.01 0.1 0.84 0.05 0.01 0.01 0.01 0.01 0.97 0.4 0.58 0.01 0.01 0.01 0.01 0.01 0.97 </TABLE>\\n\\t\\t\\t\\n  \\n\\t\\t</DEFINITION>\\n\\t\\t\\n\\n  \\n\\t\\t<DEFINITION>\\n\\t\\t\\t\\n    \\n\\t\\t\\t<FOR>FIO2</FOR>\\n\\t\\t\\t\\n    \\n\\t\\t\\t<TABLE>0.05 0.95 </TABLE>\\n\\t\\t\\t\\n  \\n\\t\\t</DEFINITION>\\n\\t\\t\\n\\n  \\n\\t\\t<DEFINITION>\\n\\t\\t\\t\\n    \\n\\t\\t\\t<FOR>BP</FOR>\\n\\t\\t\\t\\n    \\n\\t\\t\\t<GIVEN>CO</GIVEN>\\n\\t\\t\\t\\n    \\n\\t\\t\\t<GIVEN>TPR</GIVEN>\\n\\t\\t\\t\\n    \\n\\t\\t\\t<TABLE>0.98 0.01 0.01 0.98 0.01 0.01 0.3 0.6 0.1 0.98 0.01 0.01 0.1 0.85 0.05 0.05 0.4 0.55 0.9 0.09 0.01 0.05 0.2 0.75 0.01 0.09 0.9 </TABLE>\\n\\t\\t\\t\\n  \\n\\t\\t</DEFINITION>\\n\\t\\t\\n\\n  \\n\\t\\t<DEFINITION>\\n\\t\\t\\t\\n    \\n\\t\\t\\t<FOR>VENTMACH</FOR>\\n\\t\\t\\t\\n    \\n\\t\\t\\t<GIVEN>MINVOLSET</GIVEN>\\n\\t\\t\\t\\n    \\n\\t\\t\\t<TABLE>0.05 0.93 0.01 0.01 0.05 0.01 0.93 0.01 0.05 0.01 0.01 0.93 </TABLE>\\n\\t\\t\\t\\n  \\n\\t\\t</DEFINITION>\\n\\t\\t\\n\\n  \\n\\t\\t<DEFINITION>\\n\\t\\t\\t\\n    \\n\\t\\t\\t<FOR>VENTTUBE</FOR>\\n\\t\\t\\t\\n    \\n\\t\\t\\t<GIVEN>DISCONNECT</GIVEN>\\n\\t\\t\\t\\n    \\n\\t\\t\\t<GIVEN>VENTMACH</GIVEN>\\n\\t\\t\\t\\n    \\n\\t\\t\\t<TABLE>0.97 0.01 0.01 0.01 0.97 0.01 0.01 0.01 0.97 0.01 0.01 0.01 0.01 0.01 0.97 0.01 0.97 0.01 0.01 0.01 0.97 0.01 0.01 0.01 0.01 0.97 0.01 0.01 0.01 0.01 0.01 0.97 </TABLE>\\n\\t\\t\\t\\n  \\n\\t\\t</DEFINITION>\\n\\t\\t\\n\\n  \\n\\t\\t<DEFINITION>\\n\\t\\t\\t\\n    \\n\\t\\t\\t<FOR>CATECHOL</FOR>\\n\\t\\t\\t\\n    \\n\\t\\t\\t<GIVEN>ARTCO2</GIVEN>\\n\\t\\t\\t\\n    \\n\\t\\t\\t<GIVEN>INSUFFANESTH</GIVEN>\\n\\t\\t\\t\\n    \\n\\t\\t\\t<GIVEN>SAO2</GIVEN>\\n\\t\\t\\t\\n    \\n\\t\\t\\t<GIVEN>TPR</GIVEN>\\n\\t\\t\\t\\n    \\n\\t\\t\\t<TABLE>0.01 0.99 0.01 0.99 0.7 0.3 0.01 0.99 0.05 0.95 0.7 0.3 0.01 0.99 0.05 0.95 0.95 0.05 0.01 0.99 0.05 0.95 0.7 0.3 0.01 0.99 0.05 0.95 0.95 0.05 0.05 0.95 0.05 0.95 0.95 0.05 0.01 0.99 0.01 0.99 0.7 0.3 0.01 0.99 0.05 0.95 0.7 0.3 0.01 0.99 0.05 0.95 0.99 0.01 0.01 0.99 0.05 0.95 0.7 0.3 0.01 0.99 0.05 0.95 0.99 0.01 0.05 0.95 0.05 0.95 0.99 0.01 0.01 0.99 0.01 0.99 0.1 0.9 0.01 0.99 0.01 0.99 0.1 0.9 0.01 0.99 0.01 0.99 0.3 0.7 0.01 0.99 0.01 0.99 0.1 0.9 0.01 0.99 0.01 0.99 0.3 0.7 0.01 0.99 0.01 0.99 0.3 0.7 </TABLE>\\n\\t\\t\\t\\n  \\n\\t\\t</DEFINITION>\\n\\t\\t\\n\\n  \\n\\t\\t<DEFINITION>\\n\\t\\t\\t\\n    \\n\\t\\t\\t<FOR>CO</FOR>\\n\\t\\t\\t\\n    \\n\\t\\t\\t<GIVEN>HR</GIVEN>\\n\\t\\t\\t\\n    \\n\\t\\t\\t<GIVEN>STROKEVOLUME</GIVEN>\\n\\t\\t\\t\\n    \\n\\t\\t\\t<TABLE>0.98 0.01 0.01 0.95 0.04 0.01 0.3 0.69 0.01 0.95 0.04 0.01 0.04 0.95 0.01 0.01 0.3 0.69 0.8 0.19 0.01 0.01 0.04 0.95 0.01 0.01 0.98 </TABLE>\\n\\t\\t\\t\\n  \\n\\t\\t</DEFINITION>\\n\\t\\t\\n\\n  \\n\\t\\t<DEFINITION>\\n\\t\\t\\t\\n    \\n\\t\\t\\t<FOR>INTUBATION</FOR>\\n\\t\\t\\t\\n    \\n\\t\\t\\t<TABLE>0.92 0.03 0.05 </TABLE>\\n\\t\\t\\t\\n  \\n\\t\\t</DEFINITION>\\n\\t\\t\\n\\n  \\n\\t\\t<DEFINITION>\\n\\t\\t\\t\\n    \\n\\t\\t\\t<FOR>ERRLOWOUTPUT</FOR>\\n\\t\\t\\t\\n    \\n\\t\\t\\t<TABLE>0.05 0.95 </TABLE>\\n\\t\\t\\t\\n  \\n\\t\\t</DEFINITION>\\n\\t\\t\\n\\n  \\n\\t\\t<DEFINITION>\\n\\t\\t\\t\\n    \\n\\t\\t\\t<FOR>PCWP</FOR>\\n\\t\\t\\t\\n    \\n\\t\\t\\t<GIVEN>LVEDVOLUME</GIVEN>\\n\\t\\t\\t\\n    \\n\\t\\t\\t<TABLE>0.95 0.04 0.01 0.04 0.95 0.01 0.01 0.04 0.95 </TABLE>\\n\\t\\t\\t\\n  \\n\\t\\t</DEFINITION>\\n\\t\\t\\n\\n  \\n\\t\\t<DEFINITION>\\n\\t\\t\\t\\n    \\n\\t\\t\\t<FOR>MINVOLSET</FOR>\\n\\t\\t\\t\\n    \\n\\t\\t\\t<TABLE>0.05 0.9 0.05 </TABLE>\\n\\t\\t\\t\\n  \\n\\t\\t</DEFINITION>\\n\\t\\t\\n\\n  \\n\\t\\t<DEFINITION>\\n\\t\\t\\t\\n    \\n\\t\\t\\t<FOR>TPR</FOR>\\n\\t\\t\\t\\n    \\n\\t\\t\\t<GIVEN>ANAPHYLAXIS</GIVEN>\\n\\t\\t\\t\\n    \\n\\t\\t\\t<TABLE>0.98 0.01 0.01 0.3 0.4 0.3 </TABLE>\\n\\t\\t\\t\\n  \\n\\t\\t</DEFINITION>\\n\\t\\t\\n\\n  \\n\\t\\t<DEFINITION>\\n\\t\\t\\t\\n    \\n\\t\\t\\t<FOR>CVP</FOR>\\n\\t\\t\\t\\n    \\n\\t\\t\\t<GIVEN>LVEDVOLUME</GIVEN>\\n\\t\\t\\t\\n    \\n\\t\\t\\t<TABLE>0.95 0.04 0.01 0.04 0.95 0.01 0.01 0.29 0.7 </TABLE>\\n\\t\\t\\t\\n  \\n\\t\\t</DEFINITION>\\n\\t\\t\\n\\n  \\n\\t\\t<DEFINITION>\\n\\t\\t\\t\\n    \\n\\t\\t\\t<FOR>VENTLUNG</FOR>\\n\\t\\t\\t\\n    \\n\\t\\t\\t<GIVEN>INTUBATION</GIVEN>\\n\\t\\t\\t\\n    \\n\\t\\t\\t<GIVEN>KINKEDTUBE</GIVEN>\\n\\t\\t\\t\\n    \\n\\t\\t\\t<GIVEN>VENTTUBE</GIVEN>\\n\\t\\t\\t\\n    \\n\\t\\t\\t<TABLE>0.97 0.01 0.01 0.01 0.97 0.01 0.01 0.01 0.97 0.01 0.01 0.01 0.97 0.01 0.01 0.01 0.3 0.68 0.01 0.01 0.95 0.03 0.01 0.01 0.01 0.01 0.01 0.97 0.01 0.97 0.01 0.01 0.95 0.03 0.01 0.01 0.97 0.01 0.01 0.01 0.01 0.97 0.01 0.01 0.97 0.01 0.01 0.01 0.97 0.01 0.01 0.01 0.5 0.48 0.01 0.01 0.97 0.01 0.01 0.01 0.01 0.01 0.97 0.01 0.4 0.58 0.01 0.01 0.97 0.01 0.01 0.01 0.01 0.01 0.97 0.01 0.97 0.01 0.01 0.01 0.97 0.01 0.01 0.01 0.3 0.68 0.01 0.01 0.97 0.01 0.01 0.01 0.01 0.01 0.01 0.97 </TABLE>\\n\\t\\t\\t\\n  \\n\\t\\t</DEFINITION>\\n\\t\\t\\n\\n  \\n\\t\\t<DEFINITION>\\n\\t\\t\\t\\n    \\n\\t\\t\\t<FOR>ANAPHYLAXIS</FOR>\\n\\t\\t\\t\\n    \\n\\t\\t\\t<TABLE>0.01 0.99 </TABLE>\\n\\t\\t\\t\\n  \\n\\t\\t</DEFINITION>\\n\\t\\t\\n\\n  \\n\\t\\t<DEFINITION>\\n\\t\\t\\t\\n    \\n\\t\\t\\t<FOR>PVSAT</FOR>\\n\\t\\t\\t\\n    \\n\\t\\t\\t<GIVEN>FIO2</GIVEN>\\n\\t\\t\\t\\n    \\n\\t\\t\\t<GIVEN>VENTALV</GIVEN>\\n\\t\\t\\t\\n    \\n\\t\\t\\t<TABLE>1.0 0.0 0.0 0.95 0.04 0.01 1.0 0.0 0.0 0.01 0.95 0.04 0.99 0.01 0.0 0.95 0.04 0.01 0.95 0.04 0.01 0.01 0.01 0.98 </TABLE>\\n\\t\\t\\t\\n  \\n\\t\\t</DEFINITION>\\n\\t\\t\\n\\n  \\n\\t\\t<DEFINITION>\\n\\t\\t\\t\\n    \\n\\t\\t\\t<FOR>MINVOL</FOR>\\n\\t\\t\\t\\n    \\n\\t\\t\\t<GIVEN>INTUBATION</GIVEN>\\n\\t\\t\\t\\n    \\n\\t\\t\\t<GIVEN>VENTLUNG</GIVEN>\\n\\t\\t\\t\\n    \\n\\t\\t\\t<TABLE>0.97 0.01 0.01 0.01 0.01 0.01 0.01 0.97 0.5 0.48 0.01 0.01 0.01 0.97 0.01 0.01 0.01 0.97 0.01 0.01 0.97 0.01 0.01 0.01 0.5 0.48 0.01 0.01 0.01 0.01 0.97 0.01 0.01 0.01 0.97 0.01 0.6 0.38 0.01 0.01 0.97 0.01 0.01 0.01 0.01 0.01 0.01 0.97 </TABLE>\\n\\t\\t\\t\\n  \\n\\t\\t</DEFINITION>\\n\\t\\t\\n\\n  \\n\\t\\t<DEFINITION>\\n\\t\\t\\t\\n    \\n\\t\\t\\t<FOR>EXPCO2</FOR>\\n\\t\\t\\t\\n    \\n\\t\\t\\t<GIVEN>ARTCO2</GIVEN>\\n\\t\\t\\t\\n    \\n\\t\\t\\t<GIVEN>VENTLUNG</GIVEN>\\n\\t\\t\\t\\n    \\n\\t\\t\\t<TABLE>0.97 0.01 0.01 0.01 0.01 0.97 0.01 0.01 0.01 0.01 0.97 0.01 0.01 0.01 0.01 0.97 0.01 0.97 0.01 0.01 0.97 0.01 0.01 0.01 0.01 0.01 0.97 0.01 0.01 0.01 0.01 0.97 0.01 0.97 0.01 0.01 0.01 0.01 0.97 0.01 0.97 0.01 0.01 0.01 0.01 0.01 0.01 0.97 </TABLE>\\n\\t\\t\\t\\n  \\n\\t\\t</DEFINITION>\\n\\t\\t\\n\\n  \\n\\t\\t<DEFINITION>\\n\\t\\t\\t\\n    \\n\\t\\t\\t<FOR>HRSAT</FOR>\\n\\t\\t\\t\\n    \\n\\t\\t\\t<GIVEN>ERRCAUTER</GIVEN>\\n\\t\\t\\t\\n    \\n\\t\\t\\t<GIVEN>HR</GIVEN>\\n\\t\\t\\t\\n    \\n\\t\\t\\t<TABLE>0.33333333333333333 0.33333333333333333 0.33333333333333333 0.33333333333333333 0.33333333333333333 0.33333333333333333 0.01 0.98 0.01 0.33333333333333333 0.33333333333333333 0.33333333333333333 0.98 0.01 0.01 0.01 0.01 0.98 </TABLE>\\n\\t\\t\\t\\n  \\n\\t\\t</DEFINITION>\\n\\t\\t\\n\\n  \\n\\t\\t<DEFINITION>\\n\\t\\t\\t\\n    \\n\\t\\t\\t<FOR>LVFAILURE</FOR>\\n\\t\\t\\t\\n    \\n\\t\\t\\t<TABLE>0.05 0.95 </TABLE>\\n\\t\\t\\t\\n  \\n\\t\\t</DEFINITION>\\n\\t\\t\\n\\n  \\n\\t\\t<DEFINITION>\\n\\t\\t\\t\\n    \\n\\t\\t\\t<FOR>HYPOVOLEMIA</FOR>\\n\\t\\t\\t\\n    \\n\\t\\t\\t<TABLE>0.2 0.8 </TABLE>\\n\\t\\t\\t\\n  \\n\\t\\t</DEFINITION>\\n\\t\\t\\n\\n  \\n\\t\\t<DEFINITION>\\n\\t\\t\\t\\n    \\n\\t\\t\\t<FOR>HREKG</FOR>\\n\\t\\t\\t\\n    \\n\\t\\t\\t<GIVEN>ERRCAUTER</GIVEN>\\n\\t\\t\\t\\n    \\n\\t\\t\\t<GIVEN>HR</GIVEN>\\n\\t\\t\\t\\n    \\n\\t\\t\\t<TABLE>0.33333333333333333 0.33333333333333333 0.33333333333333333 0.33333333333333333 0.33333333333333333 0.33333333333333333 0.01 0.98 0.01 0.33333333333333333 0.33333333333333333 0.33333333333333333 0.98 0.01 0.01 0.01 0.01 0.98 </TABLE>\\n\\t\\t\\t\\n  \\n\\t\\t</DEFINITION>\\n\\t\\t\\n\\n  \\n\\t\\t<DEFINITION>\\n\\t\\t\\t\\n    \\n\\t\\t\\t<FOR>LVEDVOLUME</FOR>\\n\\t\\t\\t\\n    \\n\\t\\t\\t<GIVEN>HYPOVOLEMIA</GIVEN>\\n\\t\\t\\t\\n    \\n\\t\\t\\t<GIVEN>LVFAILURE</GIVEN>\\n\\t\\t\\t\\n    \\n\\t\\t\\t<TABLE>0.95 0.04 0.01 0.01 0.09 0.9 0.98 0.01 0.01 0.05 0.9 0.05 </TABLE>\\n\\t\\t\\t\\n  \\n\\t\\t</DEFINITION>\\n\\t\\t\\n\\n  \\n\\t\\t<DEFINITION>\\n\\t\\t\\t\\n    \\n\\t\\t\\t<FOR>SAO2</FOR>\\n\\t\\t\\t\\n    \\n\\t\\t\\t<GIVEN>PVSAT</GIVEN>\\n\\t\\t\\t\\n    \\n\\t\\t\\t<GIVEN>SHUNT</GIVEN>\\n\\t\\t\\t\\n    \\n\\t\\t\\t<TABLE>0.98 0.01 0.01 0.98 0.01 0.01 0.01 0.98 0.01 0.98 0.01 0.01 0.01 0.01 0.98 0.69 0.3 0.01 </TABLE>\\n\\t\\t\\t\\n  \\n\\t\\t</DEFINITION>\\n\\t\\t\\n\\n  \\n\\t\\t<DEFINITION>\\n\\t\\t\\t\\n    \\n\\t\\t\\t<FOR>PULMEMBOLUS</FOR>\\n\\t\\t\\t\\n    \\n\\t\\t\\t<TABLE>0.01 0.99 </TABLE>\\n\\t\\t\\t\\n  \\n\\t\\t</DEFINITION>\\n\\t\\t\\n\\n  \\n\\t\\t<DEFINITION>\\n\\t\\t\\t\\n    \\n\\t\\t\\t<FOR>HR</FOR>\\n\\t\\t\\t\\n    \\n\\t\\t\\t<GIVEN>CATECHOL</GIVEN>\\n\\t\\t\\t\\n    \\n\\t\\t\\t<TABLE>0.05 0.9 0.05 0.01 0.09 0.9 </TABLE>\\n\\t\\t\\t\\n  \\n\\t\\t</DEFINITION>\\n\\t\\t\\n\\n  \\n\\t\\t<DEFINITION>\\n\\t\\t\\t\\n    \\n\\t\\t\\t<FOR>VENTALV</FOR>\\n\\t\\t\\t\\n    \\n\\t\\t\\t<GIVEN>INTUBATION</GIVEN>\\n\\t\\t\\t\\n    \\n\\t\\t\\t<GIVEN>VENTLUNG</GIVEN>\\n\\t\\t\\t\\n    \\n\\t\\t\\t<TABLE>0.97 0.01 0.01 0.01 0.01 0.01 0.01 0.97 0.01 0.01 0.97 0.01 0.03 0.95 0.01 0.01 0.01 0.97 0.01 0.01 0.97 0.01 0.01 0.01 0.01 0.01 0.01 0.97 0.01 0.94 0.04 0.01 0.01 0.01 0.97 0.01 0.01 0.97 0.01 0.01 0.97 0.01 0.01 0.01 0.01 0.88 0.1 0.01 </TABLE>\\n\\t\\t\\t\\n  \\n\\t\\t</DEFINITION>\\n\\t\\t\\n\\n  \\n\\t\\t<DEFINITION>\\n\\t\\t\\t\\n    \\n\\t\\t\\t<FOR>STROKEVOLUME</FOR>\\n\\t\\t\\t\\n    \\n\\t\\t\\t<GIVEN>HYPOVOLEMIA</GIVEN>\\n\\t\\t\\t\\n    \\n\\t\\t\\t<GIVEN>LVFAILURE</GIVEN>\\n\\t\\t\\t\\n    \\n\\t\\t\\t<TABLE>0.98 0.01 0.01 0.5 0.49 0.01 0.95 0.04 0.01 0.05 0.9 0.05 </TABLE>\\n\\t\\t\\t\\n  \\n\\t\\t</DEFINITION>\\n\\t\\t\\n\\n  \\n\\t\\t<DEFINITION>\\n\\t\\t\\t\\n    \\n\\t\\t\\t<FOR>KINKEDTUBE</FOR>\\n\\t\\t\\t\\n    \\n\\t\\t\\t<TABLE>0.04 0.96 </TABLE>\\n\\t\\t\\t\\n  \\n\\t\\t</DEFINITION>\\n\\t\\t\\n\\n  \\n\\t\\t<DEFINITION>\\n\\t\\t\\t\\n    \\n\\t\\t\\t<FOR>SHUNT</FOR>\\n\\t\\t\\t\\n    \\n\\t\\t\\t<GIVEN>INTUBATION</GIVEN>\\n\\t\\t\\t\\n    \\n\\t\\t\\t<GIVEN>PULMEMBOLUS</GIVEN>\\n\\t\\t\\t\\n    \\n\\t\\t\\t<TABLE>0.1 0.9 0.95 0.05 0.1 0.9 0.95 0.05 0.01 0.99 0.05 0.95 </TABLE>\\n\\t\\t\\t\\n  \\n\\t\\t</DEFINITION>\\n\\t\\t\\n\\n\\n\\t</NETWORK>\\n\\t\\n\\n</BIF>\\n'"
      ]
     },
     "execution_count": 40,
     "metadata": {},
     "output_type": "execute_result"
    }
   ],
   "source": [
    "mydoc = minidom.parse(alarm_network_path)\n",
    "mydoc.toprettyxml()"
   ]
  },
  {
   "cell_type": "code",
   "execution_count": 58,
   "metadata": {},
   "outputs": [],
   "source": [
    "from xml.dom import minidom\n",
    "\n",
    "# parse an xml file by name\n",
    "mydoc = minidom.parse(alarm_network_path)\n",
    "\n",
    "# Getting elements from xml file\n",
    "variables = mydoc.getElementsByTagName('VARIABLE')\n",
    "prob_tables = mydoc.getElementsByTagName(\"DEFINITION\")\n",
    "network = mydoc.getElementsByTagName(\"NETWORK\")[0]\n",
    "\n",
    "# Cloning and adding variables to the network\n",
    "for elem in variables:\n",
    "    for i in range(1, NCLONES):\n",
    "        clone = elem.cloneNode(deep=True)\n",
    "        clone_name = clone.getElementsByTagName(\"NAME\")[0].firstChild\n",
    "        clone_name.data = clone_name.data +\"_\" + str(i)\n",
    "        network.appendChild(clone)\n",
    "\n",
    "# Cloning Prob_tables\n",
    "for table in prob_tables:\n",
    "    for i in range(1, NCLONES):\n",
    "        clone = table.cloneNode(deep=True)\n",
    "        for_node = clone.getElementsByTagName(\"FOR\")[0].firstChild\n",
    "        for_node.data = for_node.data + \"_\" + str(i)\n",
    "        given_nodes = clone.getElementsByTagName(\"GIVEN\")\n",
    "        if given_nodes:\n",
    "            for elem in given_nodes:\n",
    "                node = elem.firstChild\n",
    "                node.data = node.data + \"_\" + str(i)\n",
    "        #print(clone.toprettyxml())\n",
    "        network.appendChild(clone)   \n",
    "\n",
    "\n",
    "# Saving new Xml file\n",
    "#print(mydoc.toprettyxml())\n",
    "save_path = '../res/networks/' + str(NCLONES) +'Xalarm.xbif'\n",
    "with open(save_path, \"w\") as f:\n",
    "    f.write(mydoc.toprettyxml())\n",
    "# one specific item's data\n",
    "#print('\\nItem #2 data:')\n",
    "#print(items[1].firstChild.data)\n",
    "#print(items[1].childNodes[0].data)\n",
    "\n",
    "# all items data\n",
    "#print('\\nAll item data:')\n",
    "#for elem in items:\n",
    "#    print(elem.firstChild.data)"
   ]
  },
  {
   "cell_type": "code",
   "execution_count": 20,
   "metadata": {},
   "outputs": [],
   "source": [
    "ORIGINAL_NETWORK_FOLDER = \"/Users/jdls/developer/projects/ParallelBNs/res/networks/\"\n",
    "REPLICATE_NETWORK_FOLDER = \"../res/networks/replicates/\"\n",
    "NETWORKS = [\"alarm\", \"cancer\", \"mildew\", \"barley\", \"child\", \"insurance\", \"water\"]\n",
    "CLONES = [2,4,6,8]\n",
    "\n",
    "\n",
    "def getNetworkPaths():\n",
    "    p = re.compile(r'\\.xbif$')\n",
    "    paths = []\n",
    "    for root, dirs, files in os.walk(ORIGINAL_NETWORK_FOLDER):\n",
    "        #for d in dirs:\n",
    "        #    print(os.path.relpath(os.path.join(root, d), \".\"))\n",
    "        for f in files:\n",
    "            is_xbif = p.search(f)\n",
    "            if (is_xbif and 'X' not in f):\n",
    "                print(os.path.relpath(os.path.join(root, f), \".\"))\n",
    "                paths.append(os.path.relpath(os.path.join(root, f), \".\"))\n",
    "    return paths"
   ]
  },
  {
   "cell_type": "code",
   "execution_count": 21,
   "metadata": {},
   "outputs": [
    {
     "name": "stdout",
     "output_type": "stream",
     "text": [
      "../res/networks/win95pts.xbif\n",
      "../res/networks/cancer.xbif\n",
      "../res/networks/earthquake.xbif\n",
      "../res/networks/ejemplo.xbif\n",
      "../res/networks/mildew.xbif\n",
      "../res/networks/munin.xbif\n",
      "../res/networks/link.xbif\n",
      "../res/networks/child.xbif\n",
      "../res/networks/hepar2.xbif\n",
      "../res/networks/barley.xbif\n",
      "../res/networks/andes.xbif\n",
      "../res/networks/alarm.xbif\n",
      "../res/networks/insurance.xbif\n",
      "../res/networks/pigs.xbif\n",
      "../res/networks/water.xbif\n",
      "../res/networks/hailfinder.xbif\n"
     ]
    },
    {
     "data": {
      "text/plain": [
       "['../res/networks/win95pts.xbif',\n",
       " '../res/networks/cancer.xbif',\n",
       " '../res/networks/earthquake.xbif',\n",
       " '../res/networks/ejemplo.xbif',\n",
       " '../res/networks/mildew.xbif',\n",
       " '../res/networks/munin.xbif',\n",
       " '../res/networks/link.xbif',\n",
       " '../res/networks/child.xbif',\n",
       " '../res/networks/hepar2.xbif',\n",
       " '../res/networks/barley.xbif',\n",
       " '../res/networks/andes.xbif',\n",
       " '../res/networks/alarm.xbif',\n",
       " '../res/networks/insurance.xbif',\n",
       " '../res/networks/pigs.xbif',\n",
       " '../res/networks/water.xbif',\n",
       " '../res/networks/hailfinder.xbif']"
      ]
     },
     "execution_count": 21,
     "metadata": {},
     "output_type": "execute_result"
    }
   ],
   "source": [
    "getNetworkPaths()"
   ]
  },
  {
   "cell_type": "code",
   "execution_count": null,
   "metadata": {},
   "outputs": [],
   "source": []
  }
 ],
 "metadata": {
  "kernelspec": {
   "display_name": "Python 3",
   "language": "python",
   "name": "python3"
  },
  "language_info": {
   "codemirror_mode": {
    "name": "ipython",
    "version": 3
   },
   "file_extension": ".py",
   "mimetype": "text/x-python",
   "name": "python",
   "nbconvert_exporter": "python",
   "pygments_lexer": "ipython3",
   "version": "3.7.3"
  }
 },
 "nbformat": 4,
 "nbformat_minor": 2
}
